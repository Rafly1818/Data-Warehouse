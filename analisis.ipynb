{
 "cells": [
  {
   "cell_type": "code",
   "execution_count": null,
   "id": "3910de6e",
   "metadata": {},
   "outputs": [],
   "source": [
    "## USER DRIVEN"
   ]
  },
  {
   "cell_type": "code",
   "execution_count": null,
   "id": "7d7d5188",
   "metadata": {},
   "outputs": [],
   "source": [
    "## DATA DRIVEN"
   ]
  },
  {
   "cell_type": "code",
   "execution_count": null,
   "id": "3219874a",
   "metadata": {},
   "outputs": [],
   "source": [
    "## GOAL DRIVEN"
   ]
  },
  {
   "cell_type": "code",
   "execution_count": null,
   "id": "1b76904c",
   "metadata": {},
   "outputs": [],
   "source": [
    "## PROCESS DRIVEN"
   ]
  },
  {
   "cell_type": "code",
   "execution_count": null,
   "id": "42a6e2d5",
   "metadata": {},
   "outputs": [],
   "source": [
    "## EXTERNALLY DRIVEN"
   ]
  }
 ],
 "metadata": {
  "kernelspec": {
   "display_name": "Python 3",
   "language": "python",
   "name": "python3"
  },
  "language_info": {
   "name": "python",
   "version": "3.10.12"
  }
 },
 "nbformat": 4,
 "nbformat_minor": 5
}
